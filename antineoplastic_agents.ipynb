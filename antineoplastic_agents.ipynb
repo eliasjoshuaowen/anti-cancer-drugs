import nbformat

# Load the notebook file
with open('antineoplastic_agents.ipynb', 'r') as f:
    nb = nbformat.read(f, as_version=4)

# Write the notebook back to file to fix potential format issues
with open('antineoplastic_agnets.ipynb', 'w') as f:
    nbformat.write(nb, f)

{ 
"cells": [
{
"cell_type": "code",
"execution_count": null,
"id": "5f8725f2",
"metadata": {},
"outputs": [],
"source": [
"import pandas as pd\n",
"import numpy as np\n",
"from rdkit import Chem\n",
"from rdkit.Chem import Descriptors\n",
"from sklearn.model_selection import train_test_split\n",
"import tensorflow as tf\n",
"from tensorflow.keras.models import Sequential\n",
"from tensorflow.keras.models import Dense\n",
"import matplotlib.pyplot as plt\n",
"\n",
"# Placeholder for actual data loading\n",
"def mol_features(smiles):\n",
"  mol = Chem.MolFromSmiles(smiles)\n",
"  features = [Descriptors.MolWt(mol), Descriptors.NumRotatableBonds(mol), Descriptors.NumHAcceptors(mol)]\n",
"  return features\n",
"\n",
"print(\"Notebook setup complete")"
]
}
],
"metadata": {
"kernelspec": {
"display_name": "Python 3",
"language": "python",
"name": "python3"
},
"language_info": {
"codemirror_mode": {
"name": "ipython",
"version": 3
},
"file_extension": ".py",
"mimetype": "text/x-python",
"name": "python",
"nbconvert_exporter": "python",
"pygments_lexer": "ipython3",
"version": "3.8.5"
}
},
"nbformat": 4,
"nbformat_minor": 5
}
